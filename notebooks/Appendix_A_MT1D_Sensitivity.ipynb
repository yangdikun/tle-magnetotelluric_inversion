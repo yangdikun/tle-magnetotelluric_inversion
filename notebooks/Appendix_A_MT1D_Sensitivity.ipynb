{
 "cells": [
  {
   "cell_type": "code",
   "execution_count": 1,
   "metadata": {
    "collapsed": true
   },
   "outputs": [],
   "source": [
    "# !pip install SimPEG"
   ]
  },
  {
   "cell_type": "code",
   "execution_count": 2,
   "metadata": {
    "collapsed": true
   },
   "outputs": [],
   "source": [
    "import numpy as np\n",
    "import scipy.sparse as sp\n",
    "import matplotlib.pyplot as plt\n",
    "from SimPEG import Mesh, Utils, Solver\n",
    "from scipy.constants import mu_0, epsilon_0\n",
    "%matplotlib inline"
   ]
  },
  {
   "cell_type": "markdown",
   "metadata": {},
   "source": [
    "# Sensitivity computuation for 1D magnetotelluric (MT)  problem"
   ]
  },
  {
   "cell_type": "markdown",
   "metadata": {},
   "source": [
    "##  Purpose\n",
    "\n",
    "With [SimPEG's](http://simpeg.xyz) mesh class, we discretize the sensitivity function for a 1D magnetotelluric problem. Rather than generating the full sensitivity matrix, we compute the forward (`Jvec`) and adjoint (`Jtvec`) functionals that can evalaute matrix-vector product. There are some milestones to be accomplished:\n",
    "\n",
    "- Break apart senstivity function, $J_{\\sigma}$ into to parts then derive each of them (using chain rules):\n",
    "\n",
    "$$ \n",
    "J_{\\sigma} = \\frac{d P(u)}{d \\sigma} = \\frac{d P(u)}{d u} \\frac{d u}{d \\sigma}\n",
    "$$\n",
    "\n",
    "- Compute forward and adjoint sensitivity function: `Jvec` and `Jtvec`\n",
    "\n",
    "- Test `Jvec` and `Jtvec`: Order test and Adjoint test"
   ]
  },
  {
   "cell_type": "markdown",
   "metadata": {},
   "source": [
    "## Discretzation (forward simulation)\n",
    "\n",
    "We define physical properties at cell centers, and stagger the electric and magnetic fields\n",
    "\n",
    "- $\\sigma$, $\\mu$, $\\epsilon$ : cell centers\n",
    "- $E_x$: cell centers\n",
    "- $H_y$: faces\n",
    "\n",
    "<img src=\"https://github.com/simpeg/tle-magnetotelluric_inversion/raw/master/images/1DMT_discretize.png\" width=200px> \n",
    "\n",
    "and use a finite difference approach to define the operators, this gives us the discrete system of equations\n",
    "\n",
    "$$\n",
    "\\underbrace{\n",
    "    \\begin{bmatrix}\n",
    "        \\mathbf{Grad} & \\imath \\omega \\mathbf{M}^{f}_{\\mu} \\\\[0.3em]\n",
    "        \\mathbf{M}^{cc}_{\\boldsymbol{\\sigma}} & \\mathbf{Div}           \\\\[0.3em]\n",
    "    \\end{bmatrix}\n",
    "}_{\\mathbf{A}}\n",
    "\\underbrace{\n",
    "    \\begin{bmatrix}\n",
    "       \\mathbf{e_x} \\\\[0.3em]\n",
    "       \\mathbf{h_y} \\\\[0.3em]\n",
    "    \\end{bmatrix}\n",
    "}_{\\mathbf{u}}\n",
    "=\n",
    "\\underbrace{\n",
    "    \\begin{bmatrix}\n",
    "       - \\mathbf{B}\\mathbf{e_x}^{BC} \\\\[0.3em]\n",
    "       \\boldsymbol{0} \\\\[0.3em]\n",
    "    \\end{bmatrix}\n",
    "}_{\\mathbf{rhs}}\n",
    "$$\n",
    "\n",
    "with \n",
    "\n",
    "- $\\mathbf{e_x}$: Discrete $E_x$, on cell centers $[\\text{nC} \\times 1]$\n",
    "\n",
    "- $\\mathbf{h_y}$: Dicrete $H_x$, on cell faces $[(\\text{nC}+1) \\times 1]$\n",
    "\n",
    "- $ \\mathbf{Grad}$: Discrete gradient operator $[\\text{nC} \\times (\\text{nC}+1)]$\n",
    "\n",
    "- $ \\mathbf{Div}$: Discrete divergence operator $[(\\text{nC}+1) \\times \\text{nC}]$\n",
    "\n",
    "- $\\mathbf{M}^{f}_{\\boldsymbol{\\mu}} = \\mathbf{diag}(\\mathbf{Av^{cc2f}}  \\boldsymbol{\\mu})$ $[(\\text{nC}+1) \\times (\\text{nC}+1)]$\n",
    "\n",
    "- $\\mathbf{M}^{cc}_{\\boldsymbol{\\boldsymbol{\\sigma}}} = \\mathbf{diag}(\\boldsymbol{{\\sigma}})$ $[\\text{nC} \\times \\text{nC}]$. Here we are using the quasi-static assumption for brevity. \n",
    "\n",
    "- $\\mathbf{B} \\mathbf{e_x}^{BC}$ handles the boundary conditions"
   ]
  },
  {
   "cell_type": "markdown",
   "metadata": {},
   "source": [
    "## What are the data?\n",
    "\n",
    "The measured data in general can be defined as:\n",
    "\n",
    "$$ \\mathbf{d} = P(\\mathbf{u}) $$\n",
    "\n",
    "where $P(\\cdot)$ is a evaluation functional which takes a solution vector $\\mathbf{u}$ and ouputs data at a receiver location.\n",
    "\n",
    "Here, we use impedace data (one could also consider using apparent resistivity and phase). The impedance is complex, so we treat the real and imaginary components of each as two separate data points\n",
    "\n",
    "$$\n",
    "Z_{xy} = -\\frac{E_x}{H_y} = \\text{Re}[Z_{xy}] + i ~\\text{Im}[Z_{xy}]\n",
    "$$\n"
   ]
  },
  {
   "cell_type": "markdown",
   "metadata": {},
   "source": [
    "The impedance $Z_{xy}$ can be evaluated from the solution vector $\\mathbf{u}$. We will evaluate data at $z=0m$. The solution vector we obtain from the forward simulation is: \n",
    "\n",
    "$$\n",
    "\\mathbf{u} = \n",
    "    \\begin{bmatrix}\n",
    "       \\mathbf{e_x} \\\\[0.3em]\n",
    "       \\mathbf{h_y} \\\\[0.3em]\n",
    "    \\end{bmatrix}\n",
    "$$\n",
    "\n",
    "At the surface, we specified the boundary condition that $E_x(z=0) = 1$. So what we need $P(\\dot)$ to accomplish is \n",
    "$$\n",
    "Z_{xy}\\big|_{z=0} = -\\frac{1}{h_y(z=0)}\n",
    "$$\n",
    "\n",
    "Thus, $P(\\dot)$ can be defined as an interpolation matrix that simply extracts the value of $h_y$ at the surface. We denote this matrix: $\\mathbf{P}_{0}$ (Thinking in terms of matrices is very helpful when we get to the step of taking derivatives!)\n",
    "\n",
    "$$\\mathbf{d} = Z_{xy} = - \\mathbf{P}_{0}\\left(\\frac{1}{\\mathbf{u}}\\right) $$\n",
    "\n",
    "From complex-values $Z_{xy}$, we can compute real and imagniary part of the $Z_{xy}$ then the data can be defined as:\n",
    "\n",
    "$$\n",
    "\\mathbf{d} =  \\begin{bmatrix}\n",
    "   \\text{Re}[Z_{xy}]  \\\\[0.3em]\n",
    "   \\text{Im}[Z_{xy}]  \\\\[0.3em]\n",
    "\\end{bmatrix}\n",
    "$$\n",
    "\n",
    "We will set up an example and go through the steps to compute a datum. "
   ]
  },
  {
   "cell_type": "markdown",
   "metadata": {},
   "source": [
    "### Set up Mesh and Model"
   ]
  },
  {
   "cell_type": "code",
   "execution_count": 3,
   "metadata": {
    "collapsed": true
   },
   "outputs": [],
   "source": [
    "def skin_depth(sigma, f):\n",
    "    \"\"\"\n",
    "    Depth at which the fields propagating through a homogeneous medium \n",
    "    have decayed by a factor of 1/e for a given frequency, f and conductivity, sigma\n",
    "    \"\"\"\n",
    "    return 500./np.sqrt(sigma * f)"
   ]
  },
  {
   "cell_type": "code",
   "execution_count": 4,
   "metadata": {},
   "outputs": [
    {
     "name": "stdout",
     "output_type": "stream",
     "text": [
      "The minimum skin depth is 500.00m\n",
      "The maximum skin depth is 1.58e+05m\n"
     ]
    }
   ],
   "source": [
    "rho_half = 100.  # Resistivity of the halfspace in Ohm-m\n",
    "sigma_half = 1./rho_half  # Conductivity is the inverse of conductivity\n",
    "frequency = np.logspace(-3, 2, 25)  # frequencies at which to simulate the MT problem\n",
    "\n",
    "skin_depth_min = skin_depth(sigma_half, frequency.max())\n",
    "skin_depth_max = skin_depth(sigma_half, frequency.min())\n",
    "\n",
    "print(\"The minimum skin depth is {:1.2f}m\".format(skin_depth_min))\n",
    "print(\"The maximum skin depth is {:1.2e}m\".format(skin_depth_max))"
   ]
  },
  {
   "cell_type": "code",
   "execution_count": 5,
   "metadata": {},
   "outputs": [
    {
     "name": "stdout",
     "output_type": "stream",
     "text": [
      "The smallest cell size is 125.00m\n",
      "The core region of the mesh extends 5.00e+03m\n",
      "The mesh should extend at least 3.16e+05m\n"
     ]
    }
   ],
   "source": [
    "cs = skin_depth_min / 4.\n",
    "core_extent = 5000. \n",
    "domain_extent = 2 * skin_depth_max\n",
    "\n",
    "print(\"The smallest cell size is {:1.2f}m\".format(cs))\n",
    "print(\"The core region of the mesh extends {:1.2e}m\".format(core_extent))\n",
    "print(\"The mesh should extend at least {:1.2e}m\".format(domain_extent))"
   ]
  },
  {
   "cell_type": "markdown",
   "metadata": {},
   "source": [
    "Add padding to extend sufficiently far"
   ]
  },
  {
   "cell_type": "code",
   "execution_count": 6,
   "metadata": {},
   "outputs": [
    {
     "name": "stdout",
     "output_type": "stream",
     "text": [
      "25 padding cells extends 3.82e+05m > 3.16e+05m (2 skin depths)\n"
     ]
    }
   ],
   "source": [
    "npad = 1  # start with 1 cell\n",
    "padding_fact = 1.3  # the amount by which we will expand each cell of the padding\n",
    "\n",
    "def padding_extent(npad):\n",
    "    \"\"\"\n",
    "    given a number of padding cells, this computes how far the padding extends\n",
    "    \"\"\"\n",
    "    padding_widths = cs*padding_fact**(np.arange(npad) + 1)\n",
    "    return padding_widths.sum()\n",
    "\n",
    "# keep adding padding until we are beyond the desired extent\n",
    "padding_z = padding_extent(npad)\n",
    "while padding_z < domain_extent:\n",
    "    npad+=1\n",
    "    padding_z = padding_extent(npad)\n",
    "    \n",
    "print(\"{:1.0f} padding cells extends {:1.2e}m > {:1.2e}m (2 skin depths)\".format(\n",
    "    npad, padding_extent(npad), domain_extent\n",
    "))"
   ]
  },
  {
   "cell_type": "code",
   "execution_count": 7,
   "metadata": {},
   "outputs": [
    {
     "name": "stdout",
     "output_type": "stream",
     "text": [
      "There are 40 cells in the mesh. The mest extends 3.87e+05m\n"
     ]
    }
   ],
   "source": [
    "ncz = np.ceil(core_extent / cs)  # number of cells in the core domain\n",
    "hz = [(cs, npad, -1.3), (cs, ncz)]  # define how to construct the cell widths\n",
    "mesh = Mesh.TensorMesh([hz], x0='N')  # construct a 1D Tensor Mesh\n",
    "\n",
    "print(\"There are {:1.0f} cells in the mesh. The mest extends {:1.2e}m\".format(\n",
    "    ncz, mesh.hx.sum()\n",
    ")) \n",
    "\n",
    "sigma = np.ones(mesh.nC) * sigma_half"
   ]
  },
  {
   "cell_type": "markdown",
   "metadata": {},
   "source": [
    "### Forward simulation function\n",
    "\n",
    "Forward simulation function `dpred` takes conductivity model (`nCx1`), and frequency (`1x1`), and outputs real and imaginary part of the impedance, $Z_{xy}$ (`2x1`). By solving $\\mathbf{A} \\mathbf{u}=\\mathbf{rhs}$, we compute solution vector $\\mathbf{u}$, then evaluate real and imaginary part of impedance at $z=0$ ($\\mathbf{d} = P(\\mathbf{u})$). "
   ]
  },
  {
   "cell_type": "code",
   "execution_count": 8,
   "metadata": {},
   "outputs": [
    {
     "name": "stdout",
     "output_type": "stream",
     "text": [
      "The projection matrix has shape (1, 131) with 1 non-zero entry at (0,130)\n"
     ]
    }
   ],
   "source": [
    "# Projection Matrix\n",
    "P0 = sp.csr_matrix(\n",
    "    (np.r_[1.], (np.r_[0], np.r_[mesh.nF+mesh.nC-1])), shape=(1, mesh.nF+mesh.nC)\n",
    "         )\n",
    "\n",
    "print(\n",
    "    \"The projection matrix has shape {} with {} non-zero entry at ({},{})\".format(\n",
    "    P0.shape, P0.nnz, P0.nonzero()[0][0], P0.nonzero()[1][0]\n",
    "    )\n",
    ")\n"
   ]
  },
  {
   "cell_type": "code",
   "execution_count": 9,
   "metadata": {
    "collapsed": true
   },
   "outputs": [],
   "source": [
    "def dpred(sigma, f=100.):\n",
    "    \n",
    "    # angular frequency\n",
    "    omega = f*2.*np.pi\n",
    "    \n",
    "    # physical properties\n",
    "    mu = np.ones(mesh.nC)*mu_0 # magnetic permeability values for all cells\n",
    "    sigmahat = sigma.copy() # here we are ignoring displacement current\n",
    "    \n",
    "    # Grad \n",
    "    mesh.setCellGradBC([['dirichlet', 'dirichlet']]) # Setup boundary conditions\n",
    "    Grad = mesh.cellGrad # Gradient matrix\n",
    "\n",
    "    # MfMu\n",
    "    Mmu = Utils.sdiag(mesh.aveCC2F * mu) \n",
    "    \n",
    "    # Mccsigma\n",
    "    Msighat = Utils.sdiag(sigmahat) \n",
    "    \n",
    "    # Div\n",
    "    Div = mesh.faceDiv # Divergence matrix\n",
    "    \n",
    "    # Right Hand Side\n",
    "    B = mesh.cellGradBC  # a matrix for boundary conditions\n",
    "    Exbc = np.r_[0., 1.] # boundary values for Ex\n",
    "\n",
    "    # A-matrix\n",
    "    A = sp.vstack([\n",
    "        sp.hstack([Grad, 1j*omega*Mmu]), # Top row of A matrix\n",
    "        sp.hstack((Msighat, Div)) # Bottom row of A matrix\n",
    "    ])\n",
    "    \n",
    "    # Right-hand side\n",
    "    rhs = np.r_[\n",
    "        -B*Exbc, \n",
    "        np.zeros(mesh.nC)\n",
    "    ] \n",
    "\n",
    "    Ainv = Solver(A) # Factor A matrix\n",
    "    u = Ainv*rhs   # Solve A^-1 rhs = u\n",
    "\n",
    "    # build the projection matrix, a sparse matrix that has 1 entry to grab the value of h_y at the surface\n",
    "    P0 = sp.csr_matrix(\n",
    "        (np.r_[1.], (np.r_[0], np.r_[len(u)-1])), shape=(1, len(u))\n",
    "             )\n",
    "    \n",
    "    Zxy = - P0 * (1./(u))\n",
    "    \n",
    "    return np.r_[Zxy.real, Zxy.imag]"
   ]
  },
  {
   "cell_type": "code",
   "execution_count": 10,
   "metadata": {},
   "outputs": [
    {
     "name": "stdout",
     "output_type": "stream",
     "text": [
      "At f=100.0Hz, we have two data. \n",
      "Re[Z] = 0.196, Im[Z] = 0.202\n"
     ]
    }
   ],
   "source": [
    "f = 100.\n",
    "data = dpred(sigma, f=f)\n",
    "\n",
    "print(\"At f={}Hz, we have two data. \\nRe[Z] = {:1.3f}, Im[Z] = {:1.3f}\".format(f, data[0], data[1]))"
   ]
  },
  {
   "cell_type": "markdown",
   "metadata": {},
   "source": [
    "## Sensitivity of datum with regard to $\\sigma$:\n",
    "\n",
    "The sensitivity function shows how much the data are changed due to changes in model paramters. Understanding how \"sensitive\" our data are to the model is important for survey design. It is essential that we be able to compute the sensitivity when using gradient-based optimization techniques, as the sensitivity gives us the direction in which to take a step and update the model as we search for a solution. \n",
    "\n",
    "The sensitivity function can be defined as \n",
    "\n",
    "$$ J_{\\sigma} = \\frac{d P(u)}{d \\sigma}$$\n",
    "\n",
    "The size of the sensitivity is $[nD \\times n\\sigma]$"
   ]
  },
  {
   "cell_type": "markdown",
   "metadata": {},
   "source": [
    "To obtain above sensitivity function in discrete space, we first differentiate \n",
    "\n",
    "$$\\mathbf{A}\\mathbf{u} = \\mathbf{rhs}$$\n",
    "\n",
    "w.r.t ${\\boldsymbol{\\sigma}}$, which yields \n",
    "\n",
    "$$ \\frac{d \\mathbf{A}}{d {\\boldsymbol{\\sigma}}}\\mathbf{u} +  \\mathbf{A} \\frac{d \\mathbf{u} }{d {\\boldsymbol{\\sigma}}}=  0 $$\n",
    "\n",
    "Rearranging and multiplyting by $\\mathbf{A}^{-1}$ on both sides yields\n",
    "\n",
    "$$ \\frac{d \\mathbf{u} }{d {\\boldsymbol{\\sigma}}}=  -\\mathbf{A}^{-1}\\frac{d \\mathbf{A}}{d {\\boldsymbol{\\sigma}}}\\mathbf{u} $$\n",
    "\n",
    "Next, we need to include the evaluation, $\\mathbf{d} = P(\\mathbf{u})$ which is the operation taken on $\\mathbf{u}$ to give us the data. From this, we obtain\n",
    "\n",
    "$$ \\mathbf{J}_{{\\boldsymbol{\\sigma}}}  = \n",
    "\\frac{\\partial P(\\mathbf{u})}{\\partial {\\mathbf{u}}}\\Big(\\frac{d \\mathbf{u} }{d {\\boldsymbol{\\sigma}}}\\Big) = \n",
    "-\\frac{\\partial P(\\mathbf{u})}{\\partial {\\mathbf{u}}} \\Big(\\mathbf{A}^{-1}\\frac{d \\mathbf{A}}{d {\\boldsymbol{\\sigma}}}\\mathbf{u}\\Big) $$"
   ]
  },
  {
   "cell_type": "markdown",
   "metadata": {},
   "source": [
    "From this, there are two derivatives need to be computed:\n",
    "\n",
    "1. $$\\frac{d \\mathbf{A}}{d \\boldsymbol{\\sigma}}\\mathbf{u}=?$$\n",
    "\n",
    "2. $$\\frac{\\partial P(\\mathbf{u})}{\\partial \\mathbf{u}}=?$$"
   ]
  },
  {
   "cell_type": "markdown",
   "metadata": {},
   "source": [
    "### First part of the sensitivity, $\\frac{d \\mathbf{A}}{d \\boldsymbol{\\sigma}}\\mathbf{u}=?$\n",
    "For $\\frac{d \\mathbf{A}}{d \\boldsymbol{\\sigma}}\\mathbf{u}$, keep in mind that we are treating $\\mathbf{u}$ as fixed and that \n",
    "\n",
    "$$\n",
    "\\mathbf{A}\\mathbf{u} = \n",
    "    \\begin{bmatrix}\n",
    "        \\mathbf{Grad} & \\imath \\omega \\mathbf{M}^{f}_{\\mu} \\\\[0.3em]\n",
    "        \\mathbf{M}^{cc}_{\\boldsymbol{\\sigma}} & \\mathbf{Div}           \\\\[0.3em]\n",
    "    \\end{bmatrix} \n",
    "    \\begin{bmatrix}\n",
    "       \\mathbf{e_x} \\\\[0.3em]\n",
    "       \\mathbf{h_y} \\\\[0.3em]\n",
    "    \\end{bmatrix}\n",
    "$$\n",
    "\n",
    "Here, we see that the only dependence on $\\boldsymbol{\\sigma}$ is in the matrix $\\mathbf{M}^{cc}_{\\hat{\\boldsymbol{\\sigma}}} = \\mathbf{diag}(\\boldsymbol{\\sigma})$. So lets focus our attention on that block. We are taking the derivative of a Matrix-vector product (which is just a vector) with respect to the vector $\\boldsymbol{\\sigma}$, so the result should be a matrix. We write out the problem: \n",
    "\n",
    "$$\n",
    "\\frac{\\partial}{\\partial \\boldsymbol{\\sigma}} \\mathbf{M}^{cc}_{\\hat{\\boldsymbol{\\sigma}}}  \\mathbf{e_x}^{fix} = \\frac{\\partial}{\\partial \\boldsymbol{\\sigma}} \\mathbf{diag}(\\boldsymbol{\\sigma}) \\mathbf{e_x}^{fix}\n",
    "$$\n",
    "\n",
    "and since $\\text{diag}(\\mathbf{x})\\mathbf{y} = \\mathbf{diag}(\\mathbf{y})\\mathbf{x}$, we can interchange the roles of $\\boldsymbol{\\sigma}$ and $\\mathbf{e_x}^{fix}$\n",
    "\n",
    "$$\n",
    "\\frac{\\partial}{\\partial \\boldsymbol{\\sigma}} \\mathbf{M}^{cc}_{\\hat{\\boldsymbol{\\sigma}}}  \\mathbf{e_x}^{fix} = \\frac{\\partial}{\\partial \\boldsymbol{\\sigma}} \\mathbf{diag}(\\mathbf{e_x}^{fix}) \\boldsymbol{\\sigma}\n",
    "$$\n",
    "\n",
    "So the derivative is simply: \n",
    "$$\n",
    "\\frac{\\partial}{\\partial \\boldsymbol{\\sigma}} \\mathbf{M}^{cc}_{\\hat{\\boldsymbol{\\sigma}}}  \\mathbf{e_x}^{fix} =\\text{diag}(\\mathbf{e_x}^{fix})\n",
    "$$\n",
    "\n",
    "Thus the full derivative is \n",
    "$$ \n",
    "\\frac{d \\mathbf{A}}{d \\boldsymbol{\\sigma}}\\mathbf{u} =\n",
    "\\begin{bmatrix}\n",
    "    \\mathbf{0} \\\\[0.3em]\n",
    "    \\mathbf{diag}(\\mathbf{e}_x) \\\\[0.3em]\n",
    "\\end{bmatrix}\n",
    "$$"
   ]
  },
  {
   "cell_type": "markdown",
   "metadata": {},
   "source": [
    "### Second part of the Sensitivity:  $\\frac{\\partial P(\\mathbf{u})}{\\partial \\mathbf{u}}=?$\n",
    "For the other one we consider when the data is defined as real and imaginary parts of $Z_{xy} = -\\mathbf{P}_0\\frac{1}{\\mathbf{u}}$:\n",
    "\n",
    "Taking derivative of $Z_{xy}$ w.r.t. $\\mathbf{u}$ yields\n",
    "$$\n",
    "\\frac{\\partial Z_{\n",
    "xy}}{\\partial \\mathbf{u}}=\n",
    "\\mathbf{P}_0\\frac{1}{\\mathbf{u}^2}\n",
    "$$\n",
    "\n",
    "$$ \n",
    "\\frac{\\partial P(\\mathbf{u})}{\\partial \\mathbf{u}}=\n",
    "\\begin{bmatrix}\n",
    "   \\frac{\\partial Re[Z_{xy}]}{\\partial \\mathbf{u}}  \\\\[0.3em]\n",
    "   \\frac{\\partial Im[Z_{xy}]}{\\partial \\mathbf{u}}  \\\\[0.3em]\n",
    "\\end{bmatrix}  \n",
    "=\n",
    "\\begin{bmatrix}\n",
    "   Re[\\mathbf{P}_0\\frac{1}{\\mathbf{u}^2}]  \\\\[0.3em]\n",
    "   Im[\\mathbf{P}_0\\frac{1}{\\mathbf{u}^2}]  \\\\[0.3em]\n",
    "\\end{bmatrix}          \n",
    "$$\n"
   ]
  },
  {
   "cell_type": "markdown",
   "metadata": {},
   "source": [
    "Now we can form sensitivity matrix $\\mathbf{J}_{\\sigma}$ by combining above equations:\n",
    "\n",
    "$$ \\mathbf{J}_{{\\boldsymbol{\\sigma}}}  = \n",
    "-\\frac{\\partial P(\\mathbf{u})}{\\partial {\\mathbf{u}}} \\Big(\\mathbf{A}^{-1}\\frac{d \\mathbf{A}}{d {\\boldsymbol{\\sigma}}}\\mathbf{u}\\Big) $$"
   ]
  },
  {
   "cell_type": "markdown",
   "metadata": {},
   "source": [
    "Deriving sensitivity for apparent resistivity and phase is possible, but this requires additional details hence, we focus on our attention to real and imaginary parts of impedance. "
   ]
  },
  {
   "cell_type": "markdown",
   "metadata": {},
   "source": [
    "## Compute Sensitivity function\n",
    "\n",
    "We compute discretized sensitivity matrix, $\\mathbf{J}_{\\sigma}$ shown above. "
   ]
  },
  {
   "cell_type": "code",
   "execution_count": 11,
   "metadata": {
    "collapsed": true
   },
   "outputs": [],
   "source": [
    "# angular frequency\n",
    "omega = f*2*np.pi\n",
    "\n",
    "# physical properties\n",
    "sigma = np.ones(mesh.nC)*sigma_half # conductivity values for all cells\n",
    "mu = np.ones(mesh.nC)*mu_0 # magnetic permeability values for all cells\n",
    "sigmahat = sigma.copy()\n",
    "\n",
    "# Grad \n",
    "mesh.setCellGradBC([['dirichlet', 'dirichlet']]) # Setup boundary conditions\n",
    "Grad = mesh.cellGrad # Gradient matrix\n",
    "\n",
    "# MfMu\n",
    "Mmu = Utils.sdiag(mesh.aveCC2F * mu)\n",
    "\n",
    "# Mccsigma\n",
    "Msighat = Utils.sdiag(sigmahat) \n",
    "\n",
    "# Div\n",
    "Div = mesh.faceDiv # Divergence matrix\n",
    "\n",
    "# Right Hand Side\n",
    "B = mesh.cellGradBC  # a matrix for boundary conditions\n",
    "Exbc = np.r_[0., 1.] # boundary values for Ex\n",
    "\n",
    "# A-matrix\n",
    "A = sp.vstack([\n",
    "    sp.hstack([Grad, 1j*omega*Mmu]), # Top row of A matrix\n",
    "    sp.hstack((Msighat, Div)) # Bottom row of A matrix\n",
    "])\n",
    "\n",
    "# Right-hand side\n",
    "rhs = np.r_[\n",
    "    -B*Exbc, \n",
    "    np.zeros(mesh.nC)\n",
    "] "
   ]
  },
  {
   "cell_type": "code",
   "execution_count": 12,
   "metadata": {
    "collapsed": true
   },
   "outputs": [],
   "source": [
    "Ainv = Solver(A) # Factorize A matrix\n",
    "u = Ainv*rhs   # Solve A^-1 rhs = u\n",
    "\n",
    "Ex = u[:mesh.nC] # Extract Ex from uution vector u\n",
    "Hy = u[mesh.nC:mesh.nC+mesh.nN] # Extract Hy from solution vector u    \n",
    "\n",
    "P0 = sp.csr_matrix(\n",
    "    (np.r_[1.], (np.r_[0], np.r_[len(u)-1])), shape=(1, len(u))\n",
    "         )\n",
    "P0 = P0.tocsr()\n",
    "\n",
    "dAdsig_u = sp.vstack((Utils.spzeros(int(mesh.nC+1), mesh.nC), Utils.sdiag(Ex)))\n",
    "dudsig = - (Ainv * (dAdsig_u.toarray()))\n",
    "dZdsig = P0 * (Utils.sdiag(1./(u**2)) * dudsig)\n",
    "\n",
    "J = np.vstack((dZdsig.real, dZdsig.imag))"
   ]
  },
  {
   "cell_type": "markdown",
   "metadata": {},
   "source": [
    "#### Plot the sensitivity "
   ]
  },
  {
   "cell_type": "code",
   "execution_count": 13,
   "metadata": {},
   "outputs": [
    {
     "data": {
      "text/plain": [
       "<matplotlib.text.Text at 0x119c46c10>"
      ]
     },
     "execution_count": 13,
     "metadata": {},
     "output_type": "execute_result"
    },
    {
     "data": {
      "image/png": "[encoded data removed]",
      "text/plain": [
       "<matplotlib.figure.Figure at 0x10e9733d0>"
      ]
     },
     "metadata": {},
     "output_type": "display_data"
    }
   ],
   "source": [
    "fig, ax = plt.subplots(1, 1)\n",
    "\n",
    "core_inds = mesh.vectorCCx > -core_extent\n",
    "\n",
    "ax.loglog(-mesh.vectorCCx[core_inds], abs(J[0, core_inds]), label=\"real\")\n",
    "ax.loglog(-mesh.vectorCCx[core_inds], abs(J[1, core_inds]), label=\"imag\")\n",
    "\n",
    "ax.grid(True)\n",
    "ax.legend()\n",
    "ax.set_xlabel(\"Logarithmic Depth (m)\")\n",
    "ax.set_ylabel(\"Sensitivity\")  "
   ]
  },
  {
   "cell_type": "markdown",
   "metadata": {},
   "source": [
    "## Compute sensitivity-vector products:\n",
    "\n",
    "For the 1D MT problem, the sensitivity matrix ($N\\times M$) is small, hence generating sensitivity is not be a big deal. However, for any 3D EM problem, generating the sensitivity matrix will require a huge amount of memory. To minimize that we only compute sensitivity-vector product. In forward case we compute:\n",
    "\n",
    "$$ \\mathbf{Jv} = \\mathbf{J}_{\\boldsymbol{\\sigma}} \\mathbf{v} $$\n",
    "\n",
    "Similarly, in adjoint case, we compute\n",
    "\n",
    "$$ \\mathbf{Jtv} = \\mathbf{J}_{\\boldsymbol{\\sigma}}^{T} \\mathbf{v} $$\n",
    "\n",
    "Computing $\\mathbf{Jv}$ and $\\mathbf{Jtv}$ are straight forward from above derivation. \n",
    "\n",
    "$$ \\mathbf{J}_{{\\boldsymbol{\\sigma}}}^T \\mathbf{v} \n",
    "=  - \\left(\\frac{d \\mathbf{A}}{d {\\boldsymbol{\\sigma}}}\\mathbf{u} \\right)^T\n",
    "\\left(\\mathbf{A}^{T}\\right)^{-1} \\frac{\\partial P(\\mathbf{u})}{\\partial {\\mathbf{u}}}^T \\mathbf{v} $$\n",
    "\n",
    "One function computes forward sensitivity-vector product as `Jvec` and the other function computes adjoint sensitivity-vector product are named as `Jtvec`. "
   ]
  },
  {
   "cell_type": "markdown",
   "metadata": {},
   "source": [
    "### Jvec\n",
    "\n",
    "`Jvec` function takes conductivity ($\\sigma$) and vector ($\\mathbf{v}$), and computes sensitivity-vector product  at a given frequency. "
   ]
  },
  {
   "cell_type": "code",
   "execution_count": 14,
   "metadata": {
    "collapsed": true
   },
   "outputs": [],
   "source": [
    "def Jvec(sigma, v, f=100.):\n",
    "    mu = np.ones(mesh.nC)*mu_0 # magnetic permeability values for all cells\n",
    "    epsilon = np.ones(mesh.nC)*epsilon_0 # dielectric constant values for all cells\n",
    "    omega = 2*np.pi*f # Angular frequency (rad/s)\n",
    "    sigmahat = sigma # Assume sigmahat = sigma\n",
    "    \n",
    "    Div = mesh.faceDiv # Divergence matrix\n",
    "    mesh.setCellGradBC([['dirichlet', 'dirichlet']]) # Setup boundary conditions\n",
    "    Grad = mesh.cellGrad # Gradient matrix\n",
    "    B = mesh.cellGradBC  # a matrix for boundary conditions\n",
    "    Exbc = np.r_[0., 1.] # boundary values for Ex\n",
    "    Msighat = Utils.sdiag(sigmahat) \n",
    "    Mmu = Utils.sdiag(mesh.aveCC2F * mu) \n",
    "\n",
    "    # A-matrix\n",
    "    A = sp.vstack([\n",
    "        sp.hstack([Grad, 1j*omega*Mmu]), # Top row of A matrix\n",
    "        sp.hstack((Msighat, Div)) # Bottom row of A matrix\n",
    "    ])\n",
    "\n",
    "    # Right-hand side\n",
    "    rhs = np.r_[\n",
    "        -B*Exbc, \n",
    "        np.zeros(mesh.nC)\n",
    "    ] \n",
    "\n",
    "    Ainv = Solver(A) # Factorize A matrix\n",
    "    u = Ainv*rhs   # Solve A^-1 rhs = u\n",
    "    Ex = u[:mesh.nC] # Extract Ex from uution vector u\n",
    "    Hy = u[mesh.nC:mesh.nC+mesh.nN] # Extract Hy from solution vector u    \n",
    "    \n",
    "    P0 = sp.csr_matrix(\n",
    "        (np.r_[1.], (np.r_[0], np.r_[len(u)-1])), shape=(1, len(u))\n",
    "             )\n",
    "    P0 = P0.tocsr()\n",
    "    Zxy = - 1./(P0*u)\n",
    "\n",
    "    dAdsig_u_v = np.r_[np.zeros_like(Hy), Utils.sdiag(Ex)*v]\n",
    "    dudsig_v = - (Ainv * (dAdsig_u_v))\n",
    "    dZdsig_v = P0 * (Utils.sdiag(1./(u**2)) * dudsig_v)\n",
    "    dZrdsig_v = dZdsig_v.real\n",
    "    dZidsig_v = dZdsig_v.imag\n",
    "    return np.r_[dZrdsig_v, dZidsig_v]"
   ]
  },
  {
   "cell_type": "markdown",
   "metadata": {},
   "source": [
    "### Order test: Jvec\n",
    "\n",
    "We have written the `Jvec` function, but how do we make sure this function is working properly? \n",
    "\n",
    "Let's consdier a predicted data $ d = \\mathcal{F}[\\sigma + \\triangle \\sigma] $.\n",
    "Applying Taylor's expansion yields\n",
    "\n",
    "$$ \n",
    "\\mathcal{F}[\\sigma + \\triangle \\sigma] = \\mathcal{F}[\\sigma]\n",
    "+\\frac{d \\mathcal{F}}{d \\sigma} \\triangle \\sigma \n",
    "+ \\mathcal{O}(\\triangle \\sigma )^2\n",
    "$$ \n",
    "\n",
    "By rearranging aboe equation, we can consider two misfit functions:\n",
    "\n",
    "$$\n",
    "f^1 = \\|\n",
    "\\mathcal{F}[\\sigma + \\triangle \\sigma] -\\mathcal{F}[\\sigma] \\|\n",
    "$$\n",
    "\n",
    "$$\n",
    "f^2 = \\|\n",
    "\\mathcal{F}[\\sigma + \\triangle \\sigma] -\\mathcal{F}[\\sigma]\n",
    "-\\frac{d \\mathcal{F}}{d \\sigma} \\triangle \\sigma \\|\n",
    "$$\n",
    "\n",
    "The first misfit function is supposed to have 1st order accuracy, but the other should be 2nd order accuracy. By using `SimPEG`'s `Tests` class we compute this two misfits, and check the accuracy. "
   ]
  },
  {
   "cell_type": "code",
   "execution_count": 15,
   "metadata": {},
   "outputs": [
    {
     "name": "stdout",
     "output_type": "stream",
     "text": [
      "==================== checkDerivative ====================\n",
      "iter    h         |ft-f0|   |ft-f0-h*J0*dx|  Order\n",
      "---------------------------------------------------------\n",
      " 0   1.00e-01    3.454e-02     7.604e-03      nan\n",
      " 1   1.00e-02    4.121e-03     9.254e-05      1.915\n",
      " 2   1.00e-03    4.204e-04     9.461e-07      1.990\n",
      "========================= PASS! =========================\n",
      "You get a gold star!\n",
      "\n"
     ]
    },
    {
     "data": {
      "text/plain": [
       "True"
      ]
     },
     "execution_count": 15,
     "metadata": {},
     "output_type": "execute_result"
    }
   ],
   "source": [
    "from SimPEG import Tests\n",
    "def derChk(m):\n",
    "    return [dpred(m), lambda mx: Jvec(m, mx)]\n",
    "Tests.checkDerivative(derChk, sigma, plotIt=False, num=3, eps=1e-20, dx=sigma*3)"
   ]
  },
  {
   "cell_type": "markdown",
   "metadata": {},
   "source": [
    "### Jtvec\n",
    "\n",
    "The below function takes conductivity ($\\sigma$) and vector ($\\mathbf{v}$), and computes adjoint sensitivity-vector product (`Jtvec`) at a given frequency. "
   ]
  },
  {
   "cell_type": "code",
   "execution_count": 16,
   "metadata": {
    "collapsed": true
   },
   "outputs": [],
   "source": [
    "def misfit(sigma, dobs=None):\n",
    "    r = dpred(sigma) - dobs\n",
    "    return 0.5 * np.linalg.norm(r)**2\n",
    "\n",
    "def Jtvec(sigma, v, dtype=\"ri\"):\n",
    "    f = 100.\n",
    "    mu = np.ones(mesh.nC)*mu_0 # magnetic permeability values for all cells\n",
    "    epsilon = np.ones(mesh.nC)*epsilon_0 # dielectric constant values for all cells\n",
    "    omega = 2*np.pi*f # Angular frequency (rad/s)\n",
    "    sigmahat = sigma # Assume sigmahat = sigma\n",
    "\n",
    "    Div = mesh.faceDiv # Divergence matrix\n",
    "    mesh.setCellGradBC([['dirichlet', 'dirichlet']]) # Setup boundary conditions\n",
    "    Grad = mesh.cellGrad # Gradient matrix\n",
    "    B = mesh.cellGradBC  # a matrix for boundary conditions\n",
    "    Exbc = np.r_[0., 1.] # boundary values for Ex\n",
    "    Msighat = Utils.sdiag(sigmahat) \n",
    "    Mmu = Utils.sdiag(mesh.aveCC2F * mu) \n",
    "\n",
    "    tempUp = sp.hstack((Grad, 1j*omega*Mmu)) # Top row of A matrix\n",
    "    tempDw = sp.hstack((Msighat, Div)) # Bottom row of A matrix\n",
    "    A = sp.vstack((tempUp, tempDw)) # Full A matrix\n",
    "    rhs = np.r_[-B*Exbc, np.zeros(mesh.nC)] # Right-hand side   \n",
    "\n",
    "    Ainv = Solver(A) # Factorize A matrix\n",
    "    u = Ainv*rhs   # Solve A^-1 rhs = u\n",
    "    Ex = u[:mesh.nC] # Extract Ex from uution vector u\n",
    "    Hy = u[mesh.nC:mesh.nC+mesh.nN] # Extract Hy from solution vector u    \n",
    "    P0 = sp.coo_matrix(\n",
    "        (np.r_[1.], (np.r_[0], np.r_[len(u)-1])), shape=(1, len(u))\n",
    "             )\n",
    "    P0 = P0.tocsr()\n",
    "    Zxy = - 1./(P0*u)    \n",
    "    ATinv = Solver(A.T) # Factorize A matrix        \n",
    "    \n",
    "    PTvr = (P0.T*np.r_[v[0]]).astype(complex)\n",
    "    PTvi = P0.T*np.r_[v[1]]*-1j\n",
    "    dZrduT_v = Utils.sdiag((1./(u**2)))*PTvr\n",
    "    dZiduT_v = Utils.sdiag((1./(u**2)))*PTvi\n",
    "\n",
    "    dAdsiguT = sp.hstack((Utils.spzeros(mesh.nC, mesh.nN), Utils.sdiag(Ex)))\n",
    "\n",
    "    dZrdsigT_v = - (dAdsiguT*(ATinv*dZrduT_v)).real\n",
    "    dZidsigT_v = - (dAdsiguT*(ATinv*dZiduT_v)).real        \n",
    "    return dZrdsigT_v + dZidsigT_v"
   ]
  },
  {
   "cell_type": "markdown",
   "metadata": {},
   "source": [
    "### Order test: Jtvec\n",
    "\n",
    "Similarly, `Jtvec` function has to be tested. For this, in this turn we consider a data msifit function:\n",
    "\n",
    "$$\n",
    "\\phi_d = \\frac{1}{2}\\|\n",
    "\\mathcal{F}[\\sigma] - \\mathbf{d}^{obs}\n",
    "\\|^2_2\n",
    "=\\frac{1}{2} \\mathbf{r}^T\\mathbf{r},\n",
    "$$\n",
    "\n",
    "where residual is $\\mathbf{r} = \\mathcal{F}[\\sigma] - \\mathbf{d}^{obs}$. \n",
    "\n",
    "By taking derivative w.r.t $\\sigma$, we obtain\n",
    "\n",
    "$$\n",
    "\\frac{d \\phi_d}{d \\sigma} = \\mathbf{J}_{\\sigma}^T \\mathbf{r}\n",
    "$$\n",
    "\n",
    "- Note that this is basically a gradient direction, and for first order optimization method such as steepest descent, we only needs this function that is only `Jvec` is required. \n",
    "\n",
    "Then applying taylor expansion to $\\phi_d$ yields\n",
    "\n",
    "$$ \n",
    "\\phi_d[\\sigma + \\triangle \\sigma] = \\phi_d[\\sigma]\n",
    "+\\frac{d \\phi_d}{d \\sigma} \\triangle \\sigma \n",
    "+ \\mathcal{O}(\\triangle \\sigma )^2\n",
    "$$ \n",
    "\n",
    "And similarly, we can consider two misfit functions:\n",
    "\n",
    "$$\n",
    "\\phi_d^1 = \\|\n",
    "\\phi_d[\\sigma + \\triangle \\sigma] -\\phi_d[\\sigma] \\|\n",
    "$$\n",
    "\n",
    "$$\n",
    "\\phi_d^2 = \\|\n",
    "\\phi_d[\\sigma + \\triangle \\sigma] -\\phi_d[\\sigma]\n",
    "-\\frac{d \\phi_d}{d \\sigma} \\triangle \\sigma \\|\n",
    "$$\n",
    "\n",
    "The first data misfit function is supposed to have 1st order accuracy, but the other should be 2nd order accuracy. By using `SimPEG`'s `Tests` class we compute this two misfits, and check the accuracy. "
   ]
  },
  {
   "cell_type": "code",
   "execution_count": 17,
   "metadata": {},
   "outputs": [
    {
     "name": "stdout",
     "output_type": "stream",
     "text": [
      "==================== checkDerivative ====================\n",
      "iter    h         |ft-f0|   |ft-f0-h*J0*dx|  Order\n",
      "---------------------------------------------------------\n",
      " 0   1.00e-01    1.479e-02     1.452e-02      nan\n",
      " 1   1.00e-02    2.793e-03     1.384e-04      2.021\n",
      " 2   1.00e-03    2.926e-04     5.827e-07      2.376\n",
      " 3   1.00e-04    2.931e-05     4.594e-09      2.103\n",
      " 4   1.00e-05    2.931e-06     4.465e-11      2.012\n",
      "========================= PASS! =========================\n",
      "You deserve a pat on the back!\n",
      "\n"
     ]
    },
    {
     "data": {
      "text/plain": [
       "True"
      ]
     },
     "execution_count": 17,
     "metadata": {},
     "output_type": "execute_result"
    }
   ],
   "source": [
    "sigma0 = sigma*3\n",
    "dobs_ri = dpred(sigma)\n",
    "r = dpred(sigma0) - dobs_ri \n",
    "\n",
    "Tests.checkDerivative(\n",
    "    lambda m: [misfit(m, dobs=dobs_ri), Jtvec(m, r)],\n",
    "    sigma0,\n",
    "    plotIt=False,\n",
    "    num=5\n",
    ")"
   ]
  },
  {
   "cell_type": "markdown",
   "metadata": {},
   "source": [
    "## Adjoint test\n",
    "\n",
    "Both `Jvec` and `Jtvec` functions have passed the order test. These tests are necessary, but not sufficient. \n",
    "To test that both `Jvec` and `Jtvec` are consistent, we perform adjoint test. Consdier two random vectors: $\\mathbf{w}$ and $\\mathbf{v}$, then we can evalaute\n",
    "\n",
    "$$\n",
    "\\mathbf{w}^T \\mathbf{J}_{\\sigma} \\mathbf{v}, \n",
    "$$\n",
    "\n",
    "which will be a scalar value. Adjoint of above proucts is \n",
    "\n",
    "$$\n",
    "\\mathbf{v}^T \\mathbf{J}_{\\sigma}^T \\mathbf{w}, \n",
    "$$\n",
    "\n",
    "They should have same value: $\\mathbf{w}^T \\mathbf{J}_{\\sigma} \\mathbf{v}=\\mathbf{v}^T \\mathbf{J}_{\\sigma}^T \\mathbf{w}$. We evaluate $\\mathbf{w}^T \\mathbf{J}_{\\sigma} \\mathbf{v}$ and $\\mathbf{v}^T \\mathbf{J}_{\\sigma}^T \\mathbf{w}$ using `Jvec` and `Jtvec`, respectively, and check if they are outputing same values. "
   ]
  },
  {
   "cell_type": "code",
   "execution_count": 18,
   "metadata": {},
   "outputs": [
    {
     "name": "stdout",
     "output_type": "stream",
     "text": [
      "('Adjoint Test', 0.0, True)\n"
     ]
    }
   ],
   "source": [
    "v = np.random.rand(mesh.nC)\n",
    "w = np.random.rand(dobs_ri.shape[0])\n",
    "wtJv = w.dot(Jvec(sigma0, v))\n",
    "vtJtw = v.dot(Jtvec(sigma0, w))\n",
    "passed = np.abs(wtJv - vtJtw) < 1e-10\n",
    "print('Adjoint Test', np.abs(wtJv - vtJtw), passed)"
   ]
  },
  {
   "cell_type": "code",
   "execution_count": null,
   "metadata": {
    "collapsed": true
   },
   "outputs": [],
   "source": []
  }
 ],
 "metadata": {
  "anaconda-cloud": {},
  "kernelspec": {
   "display_name": "Python 3 (ipykernel)",
   "language": "python",
   "name": "python3"
  },
  "language_info": {
   "codemirror_mode": {
    "name": "ipython",
    "version": 3
   },
   "file_extension": ".py",
   "mimetype": "text/x-python",
   "name": "python",
   "nbconvert_exporter": "python",
   "pygments_lexer": "ipython3",
   "version": "3.9.13"
  }
 },
 "nbformat": 4,
 "nbformat_minor": 2
}
